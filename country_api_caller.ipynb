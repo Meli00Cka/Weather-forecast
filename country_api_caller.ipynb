{
 "cells": [
  {
   "cell_type": "code",
   "execution_count": null,
   "metadata": {},
   "outputs": [],
   "source": [
    "# geocoding:\n",
    "# https://restcountries.com/v2/all"
   ]
  },
  {
   "cell_type": "code",
   "execution_count": null,
   "metadata": {},
   "outputs": [],
   "source": [
    "import requests as req\n",
    "\n",
    "import sqlite3\n",
    "\n",
    "import random\n",
    "\n",
    "import time"
   ]
  },
  {
   "cell_type": "code",
   "execution_count": null,
   "metadata": {},
   "outputs": [],
   "source": []
  },
  {
   "cell_type": "code",
   "execution_count": 45,
   "metadata": {},
   "outputs": [],
   "source": [
    "def bed_time(min, max):\n",
    "    \n",
    "    \"\"\"\n",
    "    \n",
    "        This function generates a random number between given numbers\n",
    "        then sleeps\n",
    "        \n",
    "        \n",
    "        Example:\n",
    "        \n",
    "        bed_time(1.5, 2)\n",
    "        \n",
    "    \"\"\"\n",
    "    \n",
    "    if min or max == str:\n",
    "        min = int(min)\n",
    "        max = int(max)\n",
    "    \n",
    "    sleep_sec = (max-min)*random.random() + min\n",
    "    time.sleep(sleep_sec)"
   ]
  },
  {
   "cell_type": "code",
   "execution_count": null,
   "metadata": {},
   "outputs": [],
   "source": []
  },
  {
   "cell_type": "code",
   "execution_count": 6,
   "metadata": {},
   "outputs": [],
   "source": [
    "\n",
    "# getting countries, capital, lat and lon\n",
    "\n",
    "res_cc = req.get(\"https://restcountries.com/v2/all\")\n",
    "\n",
    "data_cc = res_cc.json()"
   ]
  },
  {
   "cell_type": "code",
   "execution_count": 115,
   "metadata": {},
   "outputs": [],
   "source": [
    "# Cleaning/Fixing the data\n",
    "data_cc[9][\"capital\"] = data_cc[9][\"capital\"].replace(\"'\", \"`\")\n",
    "\n",
    "#\n",
    "#### NOT WORKING kawda[opwkd[aw[dpawp[knypipa]]]]\n",
    "#"
   ]
  },
  {
   "cell_type": "code",
   "execution_count": 114,
   "metadata": {},
   "outputs": [
    {
     "name": "stdout",
     "output_type": "stream",
     "text": [
      "<sqlite3.Cursor object at 0x77bb044a0bc0>\n",
      "<sqlite3.Cursor object at 0x77bb04262fc0>\n",
      "<sqlite3.Cursor object at 0x77bb045f9540>\n",
      "<sqlite3.Cursor object at 0x77bb045f83c0>\n",
      "<sqlite3.Cursor object at 0x77bb042965c0>\n",
      "<sqlite3.Cursor object at 0x77bb044ae740>\n",
      "<sqlite3.Cursor object at 0x77bb045f83c0>\n",
      "<sqlite3.Cursor object at 0x77bb045f9540>\n"
     ]
    },
    {
     "ename": "KeyError",
     "evalue": "'capital'",
     "output_type": "error",
     "traceback": [
      "\u001b[0;31m---------------------------------------------------------------------------\u001b[0m",
      "\u001b[0;31mKeyError\u001b[0m                                  Traceback (most recent call last)",
      "Cell \u001b[0;32mIn[114], line 12\u001b[0m\n\u001b[1;32m      8\u001b[0m \u001b[38;5;28;01mfor\u001b[39;00m i \u001b[38;5;129;01min\u001b[39;00m \u001b[38;5;28mrange\u001b[39m(\u001b[38;5;28mlen\u001b[39m(data_cc)):\n\u001b[1;32m      9\u001b[0m     \n\u001b[1;32m     10\u001b[0m     \u001b[38;5;66;03m# getting country and it's capital\u001b[39;00m\n\u001b[1;32m     11\u001b[0m     country \u001b[38;5;241m=\u001b[39m data_cc[i][\u001b[38;5;124m\"\u001b[39m\u001b[38;5;124mname\u001b[39m\u001b[38;5;124m\"\u001b[39m]\n\u001b[0;32m---> 12\u001b[0m     capital \u001b[38;5;241m=\u001b[39m \u001b[43mdata_cc\u001b[49m\u001b[43m[\u001b[49m\u001b[43mi\u001b[49m\u001b[43m]\u001b[49m\u001b[43m[\u001b[49m\u001b[38;5;124;43m\"\u001b[39;49m\u001b[38;5;124;43mcapital\u001b[39;49m\u001b[38;5;124;43m\"\u001b[39;49m\u001b[43m]\u001b[49m\n\u001b[1;32m     14\u001b[0m     parameters \u001b[38;5;241m=\u001b[39m {\u001b[38;5;124m\"\u001b[39m\u001b[38;5;124mcity\u001b[39m\u001b[38;5;124m\"\u001b[39m:capital, \u001b[38;5;124m\"\u001b[39m\u001b[38;5;124mcountry\u001b[39m\u001b[38;5;124m\"\u001b[39m:country}\n\u001b[1;32m     17\u001b[0m     \u001b[38;5;66;03m# getting lat and lon\u001b[39;00m\n",
      "\u001b[0;31mKeyError\u001b[0m: 'capital'"
     ]
    }
   ],
   "source": [
    "base_url = \"https://api.api-ninjas.com/v1/geocoding\"\n",
    "\n",
    "key = \"Q8D8RIf37tf0zz8dY25qeA==ssFIvkwn8b7N2KoP\"\n",
    "\n",
    "\n",
    "for i in range(len(data_cc)):\n",
    "    \n",
    "    # getting country and it's capital\n",
    "    country = data_cc[i][\"name\"]\n",
    "    capital = data_cc[i][\"capital\"]\n",
    "\n",
    "    parameters = {\"city\":capital, \"country\":country}\n",
    "\n",
    "\n",
    "    # getting lat and lon\n",
    "    res_ll = req.get(url=base_url, params=parameters, headers={'X-Api-Key': key})\n",
    "    \n",
    "    if res_ll.status_code == req.codes.ok:\n",
    "        for i in range(len(res_ll.json())):\n",
    "            lat = res_ll.json()[i][\"latitude\"]\n",
    "            lon = res_ll.json()[i][\"longitude\"]\n",
    "    else:\n",
    "        print(\"Error:\", res_ll.status_code, res_ll.text)\n",
    "           \n",
    "           \n",
    "    # saving data in DB\n",
    "    \n",
    "    params = (capital, country, lat, lon)\n",
    "    \n",
    "    conn_str = \"./database/database.db\"\n",
    "\n",
    "\n",
    "    qry_insert = \"\"\"\n",
    "        INSERT INTO capital_cities (name, country, lat, lon) \n",
    "        VALUES(?, ?, ?, ?);\n",
    "    \"\"\"\n",
    "    with sqlite3.connect(conn_str) as conn_obj:\n",
    "        cursor = conn_obj.cursor()\n",
    "        \n",
    "        parameters = (capital, country, lat, lon)\n",
    "        cursor.execute(qry_insert, parameters)\n",
    "        \n",
    "        print(cursor)\n",
    "        \n",
    "    \n",
    "    # sleep\n",
    "    bed_time(0.5, 1.5)"
   ]
  },
  {
   "cell_type": "code",
   "execution_count": null,
   "metadata": {},
   "outputs": [],
   "source": []
  }
 ],
 "metadata": {
  "kernelspec": {
   "display_name": "Python 3",
   "language": "python",
   "name": "python3"
  },
  "language_info": {
   "codemirror_mode": {
    "name": "ipython",
    "version": 3
   },
   "file_extension": ".py",
   "mimetype": "text/x-python",
   "name": "python",
   "nbconvert_exporter": "python",
   "pygments_lexer": "ipython3",
   "version": "3.10.12"
  }
 },
 "nbformat": 4,
 "nbformat_minor": 2
}
