{
 "cells": [
  {
   "cell_type": "code",
   "execution_count": null,
   "metadata": {},
   "outputs": [],
   "source": [
    "# getting weather (for next 4 days)\n",
    "base_url = \"https://api.openweathermap.org/data/2.5/weather\"\n",
    "\n",
    "parameters = {\n",
    "    \"lat\" : lat,\n",
    "    \"lon\" : lon,\n",
    "    \"appid\":\"426d750d25e7809e465e069a4b6fac55\"\n",
    "}\n",
    "\n",
    "res_w = req.get(url=base_url, params=parameters)"
   ]
  },
  {
   "cell_type": "code",
   "execution_count": null,
   "metadata": {},
   "outputs": [
    {
     "data": {
      "text/plain": [
       "{'temp': 278.43,\n",
       " 'feels_like': 277.08,\n",
       " 'temp_min': 278.43,\n",
       " 'temp_max': 278.43,\n",
       " 'pressure': 1024,\n",
       " 'humidity': 82,\n",
       " 'sea_level': 1024,\n",
       " 'grnd_level': 825}"
      ]
     },
     "metadata": {},
     "output_type": "display_data"
    }
   ],
   "source": [
    "res_w.json()[\"main\"][\"temp\"]\n",
    "res_w.json()[\"main\"][\"temp_min\"]\n",
    "res_w.json()[\"main\"][\"temp_max\"]\n",
    "res_w.json()[\"main\"][\"pressure\"]\n",
    "res_w.json()[\"main\"][\"humidity\"]\n",
    "\n",
    "{'temp': 278.43,\n",
    " 'feels_like': 277.08,\n",
    " 'temp_min': 278.43,\n",
    " 'temp_max': 278.43,\n",
    " 'pressure': 1024,\n",
    " 'humidity': 82,\n",
    " 'sea_level': 1024,\n",
    " 'grnd_level': 825}"
   ]
  },
  {
   "cell_type": "code",
   "execution_count": null,
   "metadata": {},
   "outputs": [],
   "source": [
    "def weather_convertor(k):\n",
    "    return k - 273.15"
   ]
  }
 ],
 "metadata": {
  "language_info": {
   "name": "python"
  }
 },
 "nbformat": 4,
 "nbformat_minor": 2
}
