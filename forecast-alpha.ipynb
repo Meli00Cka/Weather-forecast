{
 "cells": [
  {
   "cell_type": "code",
   "execution_count": 1,
   "metadata": {},
   "outputs": [],
   "source": [
    "import sqlite3\n",
    "import requests as req\n",
    "import functions as fu"
   ]
  },
  {
   "cell_type": "code",
   "execution_count": 2,
   "metadata": {},
   "outputs": [],
   "source": [
    "city = input(\"Please enter the city name: \").title().strip()"
   ]
  },
  {
   "cell_type": "code",
   "execution_count": 3,
   "metadata": {},
   "outputs": [],
   "source": [
    "conn_str = \"./database/database.db\"\n",
    "qry_select_ll = f\"SELECT lat, lon, country FROM capital_cities WHERE name = '{city}';\""
   ]
  },
  {
   "cell_type": "code",
   "execution_count": 4,
   "metadata": {},
   "outputs": [],
   "source": [
    "with sqlite3.connect(conn_str) as conn_obj:\n",
    "    cursor = conn_obj.cursor()\n",
    "    cursor.execute(qry_select_ll)\n",
    "    data = cursor.fetchone()"
   ]
  },
  {
   "cell_type": "code",
   "execution_count": 5,
   "metadata": {},
   "outputs": [],
   "source": [
    "country = data[2]"
   ]
  },
  {
   "cell_type": "code",
   "execution_count": null,
   "metadata": {},
   "outputs": [],
   "source": []
  },
  {
   "cell_type": "code",
   "execution_count": 7,
   "metadata": {},
   "outputs": [],
   "source": [
    "# getting weather (for next 4 days)\n",
    "base_url = \"https://api.openweathermap.org/data/2.5/weather\"\n",
    "\n",
    "parameters = {\n",
    "    \"lat\" : data[0],\n",
    "    \"lon\" : data[1],\n",
    "    \"appid\":\"426d750d25e7809e465e069a4b6fac55\"\n",
    "}\n",
    "\n",
    "fu.sleep_timer(0.5, 1)\n",
    "res_w = req.get(url=base_url, params=parameters)"
   ]
  },
  {
   "cell_type": "code",
   "execution_count": null,
   "metadata": {},
   "outputs": [],
   "source": []
  },
  {
   "cell_type": "code",
   "execution_count": 21,
   "metadata": {},
   "outputs": [],
   "source": [
    "temp = fu.weather_convertor(res_w.json()[\"main\"][\"temp\"])\n",
    "temp_feel = fu.weather_convertor(res_w.json()[\"main\"][\"feels_like\"])\n",
    "temp_min = fu.weather_convertor(res_w.json()[\"main\"][\"temp_min\"])\n",
    "temp_max = fu.weather_convertor(res_w.json()[\"main\"][\"temp_max\"])\n",
    "\n",
    "pressure = res_w.json()[\"main\"][\"pressure\"]\n",
    "humidity = res_w.json()[\"main\"][\"humidity\"]\n",
    "visibility = res_w.json()[\"visibility\"]"
   ]
  },
  {
   "cell_type": "code",
   "execution_count": null,
   "metadata": {},
   "outputs": [],
   "source": []
  },
  {
   "cell_type": "code",
   "execution_count": 22,
   "metadata": {},
   "outputs": [
    {
     "name": "stdout",
     "output_type": "stream",
     "text": [
      "Ottawa in Canada:\n",
      "-Temperature: 4.5 Celsius, Feels like 0\n",
      "-Minimum temp:3.8\n",
      "-Maximum temp: 6.0\n",
      "-Humidity: 85%\n",
      "-Pressure: 997\n",
      "-Visibility: 10000\n"
     ]
    }
   ],
   "source": [
    "print(f\"{city} in {country}:\\n\\\n",
    "-Temperature: {temp:.1f} Celsius, Feels like {temp_feel:.0f}\\n\\\n",
    "-Minimum temp: {temp_min:.1f}\\n\\\n",
    "-Maximum temp: {temp_max:.1f}\\n\\\n",
    "-Humidity: {humidity}%\\n\\\n",
    "-Pressure: {pressure}\\n\\\n",
    "-Visibility: {visibility}\")"
   ]
  },
  {
   "cell_type": "code",
   "execution_count": null,
   "metadata": {},
   "outputs": [],
   "source": []
  }
 ],
 "metadata": {
  "kernelspec": {
   "display_name": "Python 3",
   "language": "python",
   "name": "python3"
  },
  "language_info": {
   "codemirror_mode": {
    "name": "ipython",
    "version": 3
   },
   "file_extension": ".py",
   "mimetype": "text/x-python",
   "name": "python",
   "nbconvert_exporter": "python",
   "pygments_lexer": "ipython3",
   "version": "3.10.12"
  }
 },
 "nbformat": 4,
 "nbformat_minor": 2
}
