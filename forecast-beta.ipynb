{
 "cells": [
  {
   "cell_type": "code",
   "execution_count": 17,
   "metadata": {},
   "outputs": [],
   "source": [
    "import sqlite3\n",
    "import requests as req\n",
    "import functions as fu"
   ]
  },
  {
   "cell_type": "code",
   "execution_count": 18,
   "metadata": {},
   "outputs": [],
   "source": [
    "city = input(\"Please enter the city name: \").title().strip()"
   ]
  },
  {
   "cell_type": "code",
   "execution_count": 19,
   "metadata": {},
   "outputs": [],
   "source": [
    "conn_str = \"./database/database.db\"\n",
    "qry_select_ll = f\"SELECT lat, lon, country FROM capital_cities WHERE name = '{city}';\""
   ]
  },
  {
   "cell_type": "code",
   "execution_count": 21,
   "metadata": {},
   "outputs": [],
   "source": [
    "with sqlite3.connect(conn_str) as conn_obj:\n",
    "    cursor = conn_obj.cursor()\n",
    "    cursor.execute(qry_select_ll)\n",
    "    data = cursor.fetchone()"
   ]
  },
  {
   "cell_type": "code",
   "execution_count": 22,
   "metadata": {},
   "outputs": [],
   "source": [
    "country = data[2]"
   ]
  },
  {
   "cell_type": "code",
   "execution_count": null,
   "metadata": {},
   "outputs": [],
   "source": []
  },
  {
   "cell_type": "code",
   "execution_count": null,
   "metadata": {},
   "outputs": [],
   "source": []
  },
  {
   "cell_type": "code",
   "execution_count": null,
   "metadata": {},
   "outputs": [],
   "source": [
    "\n",
    "def user_input_code(message: str):\n",
    "    \"\"\"Gets user input and handles input errors\n",
    "\n",
    "    Args:\n",
    "        message (str): The question you want to ask from user\n",
    "\n",
    "    Returns:\n",
    "        int: user's input\n",
    "    \"\"\"\n",
    "    while True:\n",
    "        try:\n",
    "            user_input = input(f\"{message} Or type 'exit' to cancel\").strip()\n",
    "            if user_input.lower() == 'exit':\n",
    "                return None\n",
    "            return int(user_input)\n",
    "        except ValueError:\n",
    "            print(\"A ValueError exception has been occurred, input must be an integer\")\n",
    "        except Exception as e:\n",
    "            print(f\"Unexpected error occurred: {e}\")\n",
    "\n",
    "mode = user_input_code(\"Please select a mode:\\n[1] for Current weather\\n[2] for Forecast\")\n",
    "    "
   ]
  },
  {
   "cell_type": "code",
   "execution_count": 25,
   "metadata": {},
   "outputs": [],
   "source": [
    "###### ERROR HANDLING\n",
    "\n",
    "\n",
    "\n",
    "\n",
    "def user_input_code(message: str):\n",
    "    \"\"\"Gets user input and handles input errors\n",
    "\n",
    "    Args:\n",
    "        message (str): The question you want to ask from user\n",
    "\n",
    "    Returns:\n",
    "        int: user's input\n",
    "    \"\"\"\n",
    "    while True:\n",
    "        try:\n",
    "            user_input = input(f\"{message} Or type 'exit' to cancel\").strip()\n",
    "            if user_input.lower() == \"exit\":\n",
    "                return None\n",
    "            return int(user_input)\n",
    "        except ValueError:\n",
    "            print(\"A ValueError exception has been occurred, input must be an integer\")\n",
    "        except Exception as e:\n",
    "            print(f\"Unexpected error occurred: {e}\")"
   ]
  },
  {
   "cell_type": "code",
   "execution_count": null,
   "metadata": {},
   "outputs": [],
   "source": []
  },
  {
   "cell_type": "code",
   "execution_count": 26,
   "metadata": {},
   "outputs": [
    {
     "name": "stdout",
     "output_type": "stream",
     "text": [
      "A ValueError exception has been occurred, input must be an integer\n",
      "A ValueError exception has been occurred, input must be an integer\n",
      "A ValueError exception has been occurred, input must be an integer\n"
     ]
    }
   ],
   "source": [
    "#\n",
    "# Error handling\n",
    "#\n",
    "url_forecast = \"https://api.weatherbit.io/v2.0/forecast/daily\"\n",
    "url_current = \"https://api.openweathermap.org/data/2.5/weather\"\n",
    "\n",
    "\n",
    "\n",
    "while True:\n",
    "    mode = user_input_code(\"Please select a mode:\\n[1] for Current weather\\n[2] for Forecast\")\n",
    "            \n",
    "    \n",
    "    if mode == 1:\n",
    "        base_url = url_current\n",
    "        parameters = {\n",
    "            \"lat\" : data[0],\n",
    "            \"lon\" : data[1],\n",
    "            \"units\" : \"metric\",\n",
    "            \"cnt\" : 1,\n",
    "            \"appid\":\"426d750d25e7809e465e069a4b6fac55\"\n",
    "        }\n",
    "        break\n",
    "    \n",
    "    elif mode == 2:\n",
    "        base_url = url_forecast\n",
    "        parameters = {\n",
    "            \"lat\" : data[0],\n",
    "            \"lon\" : data[1],\n",
    "            \"units\" : \"M\",\n",
    "            \"key\" : \"4dbe3926100242cb800545de364dc00c\"\n",
    "        }\n",
    "        while True:\n",
    "            days = user_input_code(\"Forecast for how many days? (maximum 16-days)\\n\")\n",
    "            if 0 >= days or days > 16:\n",
    "                print(\"Number can't be less than 1 or above 16\")\n",
    "                continue\n",
    "            else:\n",
    "                break\n",
    "        break\n",
    "    \n",
    "    # else:\n",
    "    #     print(\"this number is not on the list\")\n",
    "    #     continue"
   ]
  },
  {
   "cell_type": "code",
   "execution_count": null,
   "metadata": {},
   "outputs": [],
   "source": [
    "fu.sleep_timer(0.5, 1)\n",
    "res_w = req.get(url=base_url, params=parameters)"
   ]
  },
  {
   "cell_type": "code",
   "execution_count": null,
   "metadata": {},
   "outputs": [],
   "source": []
  },
  {
   "cell_type": "code",
   "execution_count": null,
   "metadata": {},
   "outputs": [],
   "source": [
    "#\n",
    "# dont use print twice\n",
    "#\n",
    "\n",
    "if mode == 1:\n",
    "    weather = res_w.json()[\"main\"]\n",
    "    \n",
    "    description = res_w.json()[\"weather\"][0][\"description\"]\n",
    "    temp = weather[\"temp\"]\n",
    "    temp_feel = weather[\"feels_like\"]\n",
    "    temp_min = weather[\"temp_min\"]\n",
    "    temp_max = weather[\"temp_max\"]\n",
    "\n",
    "    pressure = weather[\"pressure\"]\n",
    "    humidity = weather[\"humidity\"]\n",
    "    visibility = res_w.json()[\"visibility\"]/1000\n",
    "    \n",
    "    # output\n",
    "    print(\n",
    "        f\"-Current weather-\",\n",
    "        f\"{city} in {country}:\",\n",
    "        description,\n",
    "        f\"-Temperature: {temp:.0f} Celsius, Feels like {temp_feel:.0f}\",\n",
    "        f\"-Minimum temp: {temp_min:.0f}\",\n",
    "        f\"-Maximum temp: {temp_max:.0f}\",\n",
    "        f\"-Humidity: {humidity}%\",\n",
    "        f\"-Pressure: {pressure}\",\n",
    "        f\"-Visibility: {visibility:.1f} KM\",\n",
    "        sep=\"\\n\"\n",
    "    )\n",
    "    \n",
    "    \n",
    "elif mode == 2:\n",
    "    weather = res_w.json()[\"data\"][days-1]\n",
    "    \n",
    "    temp = weather[\"temp\"]\n",
    "    temp_min = weather[\"min_temp\"]\n",
    "    temp_max = weather[\"max_temp\"]\n",
    "    temp_feel_min = weather[\"app_min_temp\"]\n",
    "    temp_feel_max = weather[\"app_max_temp\"]\n",
    "    pressure = weather[\"pres\"]\n",
    "    humidity = weather[\"rh\"]\n",
    "    visibility = weather[\"vis\"]\n",
    "    temp_feel = (temp_feel_max + temp_feel_min) / 2\n",
    "    description = weather[\"weather\"][\"description\"]\n",
    "    \n",
    "    # output\n",
    "    if days == 1:\n",
    "        title = f\"Forecast for tommorrow\"\n",
    "    else:\n",
    "        title = f\"-Forecast for next {days} days-\"\n",
    "    print(\n",
    "        title,\n",
    "        f\"{city} in {country}:\",\n",
    "        description,\n",
    "        f\"-Temperature: {temp:.0f} Celsius, Will feel like {temp_feel:.0f}\",\n",
    "        f\"-Minimum temp: {temp_min:.0f}\",\n",
    "        f\"-Maximum temp: {temp_max:.0f}\",\n",
    "        f\"-Humidity: {humidity}%\",\n",
    "        f\"-Pressure: {pressure}\",\n",
    "        f\"-Visibility: {visibility:.1f} KM\",\n",
    "        sep=\"\\n\"\n",
    "    )"
   ]
  }
 ],
 "metadata": {
  "kernelspec": {
   "display_name": "Python 3",
   "language": "python",
   "name": "python3"
  },
  "language_info": {
   "codemirror_mode": {
    "name": "ipython",
    "version": 3
   },
   "file_extension": ".py",
   "mimetype": "text/x-python",
   "name": "python",
   "nbconvert_exporter": "python",
   "pygments_lexer": "ipython3",
   "version": "3.10.12"
  }
 },
 "nbformat": 4,
 "nbformat_minor": 2
}
