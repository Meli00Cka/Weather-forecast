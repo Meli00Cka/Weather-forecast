{
 "cells": [
  {
   "cell_type": "markdown",
   "metadata": {},
   "source": [
    "<!DOCTYPE html>\n",
    "<html>\n",
    "<head>\n",
    "    <meta charset=\"UTF-8\">\n",
    "</head>\n",
    "<body>\n",
    "    <details open>\n",
    "        <summary>Country API caller</summary>\n",
    "        <h4>make a CLI menu that got these options:</h4>\n",
    "        <p>Clean the DataBase</p>\n",
    "        <p>Get new data from API</p>\n",
    "    </details>\n",
    "    <details open>\n",
    "        <summary>Weather Forcast API</summary>\n",
    "    </details>\n",
    "</body>\n",
    "</html>"
   ]
  }
 ],
 "metadata": {
  "language_info": {
   "name": "python"
  }
 },
 "nbformat": 4,
 "nbformat_minor": 2
}
